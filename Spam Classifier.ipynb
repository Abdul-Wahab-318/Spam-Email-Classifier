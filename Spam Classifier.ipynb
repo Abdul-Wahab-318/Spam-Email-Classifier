{
 "cells": [
  {
   "cell_type": "code",
   "execution_count": 51,
   "id": "a4ce02a9",
   "metadata": {},
   "outputs": [],
   "source": [
    "import os\n",
    "import tarfile\n",
    "import urllib.request\n",
    "\n",
    "DOWNLOAD_ROOT = \"http://spamassassin.apache.org/old/publiccorpus/\"\n",
    "DATASET_PATH = \"C:\\\\Users\\\\PC\\\\Desktop\\\\spam_dataset\"\n",
    "SPAM_PATH = os.path.join(DATASET_PATH , \"spam\")\n",
    "HAM_PATH = os.path.join(DATASET_PATH , \"easy_ham\")\n",
    "\n",
    "\n",
    "        "
   ]
  },
  {
   "cell_type": "code",
   "execution_count": 52,
   "id": "cb2969cc",
   "metadata": {},
   "outputs": [],
   "source": [
    "spam_emails = [ email for email in os.listdir(SPAM_PATH) if len(email) > 20 ]\n",
    "ham_emails = [ email for email in os.listdir(HAM_PATH) if len(email) > 20 ]"
   ]
  },
  {
   "cell_type": "code",
   "execution_count": 53,
   "id": "57fec30b",
   "metadata": {},
   "outputs": [
    {
     "name": "stdout",
     "output_type": "stream",
     "text": [
      "spam mails : 500\n",
      "ham mails : 2551\n"
     ]
    }
   ],
   "source": [
    "print(\"spam mails :\" , len(spam_emails))\n",
    "print(\"ham mails :\" , len(ham_emails))"
   ]
  },
  {
   "cell_type": "code",
   "execution_count": 54,
   "id": "b21749b4",
   "metadata": {},
   "outputs": [],
   "source": [
    "import email\n",
    "import email.policy\n",
    "\n",
    "def load_email(filename , path):\n",
    "    \n",
    "    with open(os.path.join(path,filename) , \"rb\") as f:\n",
    "        return email.parser.BytesParser(policy=email.policy.default).parse(f)\n",
    "    "
   ]
  },
  {
   "cell_type": "code",
   "execution_count": 55,
   "id": "7cb1d5df",
   "metadata": {},
   "outputs": [],
   "source": [
    "spam_emails = [ load_email(email , SPAM_PATH) for email in spam_emails ]\n",
    "ham_emails = [ load_email(email , HAM_PATH) for email in ham_emails ]"
   ]
  },
  {
   "cell_type": "code",
   "execution_count": 56,
   "id": "5dff171e",
   "metadata": {},
   "outputs": [
    {
     "name": "stdout",
     "output_type": "stream",
     "text": [
      "Help wanted.  We are a 14 year old fortune 500 company, that is\n",
      "growing at a tremendous rate.  We are looking for individuals who\n",
      "want to work from home.\n",
      "\n",
      "This is an opportunity to make an excellent income.  No experience\n",
      "is required.  We will train you.\n",
      "\n",
      "So if you are looking to be employed from home with a career that has\n",
      "vast opportunities, then go:\n",
      "\n",
      "http://www.basetel.com/wealthnow\n",
      "\n",
      "We are looking for energetic and self motivated people.  If that is you\n",
      "than click on the link and fill out the form, and one of our\n",
      "employement specialist will contact you.\n",
      "\n",
      "To be removed from our link simple go to:\n",
      "\n",
      "http://www.basetel.com/remove.html\n",
      "\n",
      "\n",
      "1349lmrd5-948HyhJ3622xXiM0-290VZdq6044fFvN0-799hUsU07l50\n"
     ]
    }
   ],
   "source": [
    "print(spam_emails[16].get_content().strip())"
   ]
  },
  {
   "cell_type": "code",
   "execution_count": 57,
   "id": "0401b8e7",
   "metadata": {},
   "outputs": [],
   "source": [
    "def get_email_structure(email):\n",
    "    return email.get_content_type()"
   ]
  },
  {
   "cell_type": "code",
   "execution_count": 58,
   "id": "889b1f48",
   "metadata": {},
   "outputs": [
    {
     "name": "stdout",
     "output_type": "stream",
     "text": [
      "[('text/plain', 218), ('text/html', 183), ('multipart/alternative', 47), ('multipart/mixed', 43), ('multipart/related', 9)] \n",
      "\n",
      "\n",
      "[('text/plain', 2453), ('multipart/signed', 74), ('multipart/mixed', 10), ('multipart/alternative', 9), ('multipart/related', 3), ('multipart/report', 2)]\n"
     ]
    }
   ],
   "source": [
    "from collections import Counter\n",
    "\n",
    "def email_structure(emails):\n",
    "    hashTable = Counter()\n",
    "    for email in emails:\n",
    "        structure = get_email_structure(email)\n",
    "        hashTable[structure] += 1\n",
    "    return hashTable\n",
    "\n",
    "print(email_structure(spam_emails).most_common(),\"\\n\\n\")\n",
    "print(email_structure(ham_emails).most_common())"
   ]
  },
  {
   "cell_type": "code",
   "execution_count": 59,
   "id": "3045fc1e",
   "metadata": {},
   "outputs": [],
   "source": [
    "import numpy as np\n",
    "from sklearn.model_selection import train_test_split\n",
    "\n",
    "X = np.array(spam_emails + ham_emails , dtype=object)\n",
    "y = np.array([1] * len(spam_emails) + [0] *len(ham_emails))\n",
    "\n",
    "X_train , X_test , y_train , y_test = train_test_split(X,y,random_state=42 , test_size=0.2)\n"
   ]
  },
  {
   "cell_type": "code",
   "execution_count": 60,
   "id": "d5ad62ba",
   "metadata": {},
   "outputs": [
    {
     "data": {
      "text/plain": [
       "\"Save up to 70% on Life Insurance.Why Spend More Than You Have To?Life Quote SavingsEnsuring your    family's financial security is very important. Life Quote Savings makes    buying life insurance simple and affordable. We Provide FREE Access to The    Very Best Companies and The Lowest Rates.Life Quote Savings is FAST, EASY and    SAVES you money! Let us help you get started with the best values in    the country on new coverage. You can SAVE hundreds or even thousands    of dollars by requesting a FREE quote from Lifequote Savings. Our    service will take you less than 5 minutes to complete. Shop and    compare. SAVE up to 70% on all types of Life insurance! Click Here For Your    Free Quote!Protecting your family is the best investment you'll ever     make!If you are in receipt of this email    in error and/or wish to be removed from our list, PLEASE CLICK HERE AND TYPE REMOVE. If you    reside in any state which prohibits e-mail solicitations for insurance,    please disregard this    email.\""
      ]
     },
     "execution_count": 60,
     "metadata": {},
     "output_type": "execute_result"
    }
   ],
   "source": [
    "\n",
    "webpage = spam_emails[0].get_content()\n",
    "pageText = BeautifulSoup(webpage,\"html.parser\")\n",
    "pageText.get_text().replace(\"\\n\",\"\").replace(\"    \",\" \").strip()\n",
    "\n"
   ]
  },
  {
   "cell_type": "code",
   "execution_count": 61,
   "id": "97b0ee59",
   "metadata": {},
   "outputs": [],
   "source": [
    "from bs4 import BeautifulSoup\n",
    "\n",
    "def html_to_plain_text(html):\n",
    "    htmlText = BeautifulSoup(html,\"html.parser\")\n",
    "    return htmlText.get_text().strip()\n",
    "\n",
    "def email_to_text(email):\n",
    "    \n",
    "    html = None\n",
    "    for part in email.walk():\n",
    "        ctype = part.get_content_type()\n",
    "        if not ctype in (\"text/plain\", \"text/html\"):\n",
    "            continue\n",
    "        try:\n",
    "            content = part.get_content()\n",
    "        except: # in case of encoding issues\n",
    "            content = str(part.get_payload())\n",
    "        if ctype == \"text/plain\":\n",
    "            return content\n",
    "        else:\n",
    "            html = content\n",
    "    if html:\n",
    "        return html_to_plain_text(html)\n",
    "        "
   ]
  },
  {
   "cell_type": "code",
   "execution_count": 62,
   "id": "7984d4f9",
   "metadata": {},
   "outputs": [
    {
     "data": {
      "text/plain": [
       "'<html>\\n\\n<head>\\n<meta http-equiv=\"Content-Type\"\\ncontent=\"text/html; charset=iso-8859-1\">\\n<meta name=\"GENERATOR\" content=\"Microsoft FrontPage 5.0\">\\n<title></title>\\n</head>\\n\\n<body bgcolor=\"#FFFFFF\">\\n<div align=\"center\"><center>\\n\\n<table border=\"0\" cellpadding=\"5\" width=\"90%\">\\n    <tr>\\n        <td width=\"100%\"><hr>\\n        <p align=\"center\"><font color=\"#FF0000\" size=\"5\"\\n        face=\"Arial\"><strong>EBAY AUCTION NEWS</strong><br>\\n        </font><font color=\"#0000FF\" face=\"Arial\"><strong>**\\n        Recommended Resource - Special Edition **</strong><br>\\n        </font><font face=\"Arial\"><strong>Monday, August 26th, 2002</strong></font></p>\\n        <hr>\\n        <h3 align=\"center\"><font color=\"#FF0000\" face=\"Arial\">Multiple\\n        Streams of revenue using eBay and Internet: </font></h3>\\n        <p align=\"center\"><font color=\"#0000FF\" size=\"4\"\\n        face=\"Arial\"><strong>FREE Auction Profits Toolkit and\\n        FREE training class</strong><br>\\n        </font><font face=\"Arial\">(For the first 200 respondents)</font></p>\\n        <p align=\"center\"><font face=\"Arial\"><strong>You have\\n        been selected to participate in this </strong></font><font\\n        color=\"#FF0000\" face=\"Arial\"><strong>FREE</strong></font><font\\n        face=\"Arial\"><strong> offer. <br>\\n        </strong><br>\\n        This eBay and Internet e-course, live web training\\n        conference, and Auction Profit Toolkit could easily sell\\n        for $297 - but it\\'s yours absolutely <strong>FREE</strong>!\\n        <br>\\n        <br>\\n        This special <strong>FREE</strong> offer has been brought\\n        to you by your friends at eBay Auction News. Craig Meyer\\n        (The Auction Man) has agreed to provide you a <strong>free\\n        &quot;live&quot; training class</strong> that you won\\'t\\n        want to miss.<br>\\n        <br>\\n        You might say &quot;Craig Meyer - the Auction Man?&quot;\\n        That\\'s because most of you remember Craig as the real estate\\n        guru who in 1997 helped over 2,000 families buy their own\\n        homes using little or none of their own money. Craig was\\n        featured on television programs throughout the country\\n        for this incredible effort. Craig is not one of those get\\n        rich quick gurus - but a guy who has helped families\\n        realize the American Dream - I will tell you Craig Meyer\\n        is the real deal! <br>\\n        <br>\\n        Craig and his staff have\\n        invested hundreds of thousands of dollars and thousands\\n        of hours testing, testing and more testing - Craig has\\n        developed an incredible system for making Big Money using\\n        eBay and the Internet This system will be revealed to you\\n        in - Craig\\'s brand new live Online Conference - Craig is\\n        providing a limited number of eBay Auction News subscribers\\n        the opportunity to attend this conference for <strong>FREE</strong>!\\n        <br>\\n        <br>\\n        <b>Register for the class:\\n        <a href=\"http://64.251.23.141/marketing/auction/index.html\">CLICK HERE</a> <br>\\n        <br>\\n        </b>#1 Free &quot;live&quot; Online training class -\\n        Craig Meyer\\'s Multiple Streams of revenue using eBay and\\n        the Internet! <br>\\n        <br>\\n        </font></p>\\n        <div align=\"center\"><center><table border=\"1\"\\n        cellpadding=\"5\" cellspacing=\"0\" width=\"90%\"\\n        bgcolor=\"#E9E9E9\" bordercolor=\"#0000FF\">\\n            <tr>\\n                <td align=\"center\" width=\"100%\" bgcolor=\"#0000FF\"><font\\n                color=\"#FFFFFF\" size=\"4\" face=\"Arial\"><strong>Sessions\\n                Start: </strong></font></td>\\n            </tr>\\n            <tr>\\n                <td align=\"center\" width=\"100%\">\\n                <table cellSpacing=\"0\" cellPadding=\"0\" border=\"0\">\\n                  <tr>\\n                    <td>&nbsp;</td>\\n                    <td><b><font size=\"4\">8/28/2002 - 5:00pm PST - 6:30pm PST</font></b></td>\\n                  </tr>\\n                  <tr>\\n                    <td>&nbsp;</td>\\n                    <td><b><font size=\"4\">9/02/2002 - 9:00am PST - 10:30am PST</font></b></td>\\n                  </tr>\\n                  <tr>\\n                    <td>&nbsp;</td>\\n                    <td><b><font size=\"4\">9/03/2002 - 5:00pm PST - 6:30pm PST</font></b></td>\\n                  </tr>\\n                  <tr>\\n                    <td>&nbsp;</td>\\n                    <td><b><font size=\"4\">9/05/2002 - 9:00am PST - 10:30am PST</font></b></td>\\n                  </tr>\\n                  <tr>\\n                    <td>&nbsp;</td>\\n                    <td><b><font size=\"4\">9/09/2002 - 9:00am PST - 10:30am PST</font></b></td>\\n                  </tr>\\n                  <tr>\\n                    <td>&nbsp;</td>\\n                    <td><b><font size=\"4\">9/10/2002 - 5:00pm PST - 6:30pm PST</font></b></td>\\n                  </tr>\\n                  <tr>\\n                    <td>&nbsp;</td>\\n                    <td><b><font size=\"4\">Pre-recorded Class (anytime)</font></b></td>\\n                  </tr>\\n                </table>\\n                </td>\\n            </tr>\\n        </table>\\n        </center></div><p align=\"left\"><font face=\"Arial\">This is\\n        the live online training class that Started it all ... <strong>This\\n        class can help YOU learn how to Create Multiple Streams\\n        of eBay and internet revenue for LIFE!</strong> This\\n        course is personally taught online by Craig Meyer\\n        HIMSELF! PLUS, when you attend, you will get: <br>\\n        <br>\\n        </font><font color=\"#0000FF\" face=\"Arial\"><b>The Entire\\n        Auction Profits Toolkit absolutely FREE! </b></font><font\\n        color=\"#FF0000\" face=\"Arial\"><b>A $297 Value!</b></font><font\\n        face=\"Arial\"> <br>\\n        <br>\\n        Just think about it ... you will have personal and\\n        individual training! Craig will be teaching you all of\\n        his proven, successful, and profitable wealth secrets -\\n        LIVE, interactive, intense and jam packed with\\n        information! <br>\\n        <br>\\n        Plus - During Craig\\'s live online class he will reveal\\n        the secret to making $12,000 in the next 30 days - No\\n        Hype, I promise this is the real deal - you don\\'t want to\\n        miss this conference so respond right now! <br>\\n        <br>\\n        <strong>Are you interested in Financial Freedom? <br>\\n        Are you interested in having Multiple Streams of Income? <br>\\n        Are you willing to work with Craig personally to achieve\\n        these goals? <br>\\n        Are you ready to the Auction Profit Toolkit and training class <strong>FREE? </strong><br>\\n        <br>\\n        </strong>\\n        </font>\\n        <strong><font color=\"#0000FF\" face=\"Arial\"><strong>If SO,\\n        Just go to the registration page: </strong>\\n        <a href=\"http://64.251.23.141/marketing/auction/index.html\">CLICK HERE\\n        </a><br>\\n        </font><font face=\"Arial\"><br>\\n        Get registered now! You\\'ll receive a confirmation email\\n        immediately after you register. <br>\\n        <strong>KEEP THE CONFIRMATION EMAIL HANDY!</strong> It\\n        contains all the codes and access numbers to view the\\n        program on your PC and get on the call! <br>\\n        <br>\\n        This conference will be sold out - actually since the\\n        entire program is free It will simply fill up - once it\\n        is full - it\\'s full - to guarantee your participation\\n        register right now! <br>\\n        </font></p>\\n        <h3><font color=\"#FF0000\" face=\"Arial\">HERE IS HOW YOU\\n        REGISTER &amp; LOCK IN YOUR POSITION:</font></h3>\\n        <p><font color=\"#0000FF\" face=\"Arial\"><strong>You have to\\n        go to this website: </strong></font>\\n        <a href=\"http://64.251.23.141/marketing/auction/index.html\"><font\\n        color=\"#0000FF\" face=\"Arial\">CLICK HERE</font><font\\n        face=\"Arial\"> </font></a><font face=\"Arial\"><br>\\n        <br>\\n        <strong>Be sure to do it </strong></font><font\\n        color=\"#FF0000\" face=\"Arial\"><strong>NOW</strong></font><font\\n        face=\"Arial\"><strong> - the web conference and auction profits course are going to go QUICKLY ... and I don\\'t want\\n        you to miss out! </strong><br>\\n        <br>\\n        Sincerely, <br>\\n        <br>\\n        Taylor Brooks <br>\\n        eBay Auction News<br>\\n        </font></p>\\n        <hr>\\n        <p><font\\n        face=\"Arial\">To be removed,\\n        <a href=\"http://64.251.23.141/affiliates/removeme.html\">CLICK HERE</a></font></p>\\n        </td>\\n    </tr>\\n</table>\\n</center></div>\\n</body>\\n</html>\\n\\n\\n\\n\\n'"
      ]
     },
     "execution_count": 62,
     "metadata": {},
     "output_type": "execute_result"
    }
   ],
   "source": [
    "html_spam_emails = [mail for mail in X_train[y_train == 1] if get_email_structure(mail) == 'text/html' ]\n",
    "sample_html_spam = html_spam_emails[1]\n",
    "sample_html_spam.get_content()"
   ]
  },
  {
   "cell_type": "code",
   "execution_count": 63,
   "id": "39df74aa",
   "metadata": {},
   "outputs": [
    {
     "data": {
      "text/plain": [
       "'EBAY AUCTION NEWS\\n**\\n        Recommended Resource - Special Edition **\\nMonday, August 26th, 2002\\n\\nMultiple\\n        Streams of revenue using eBay and Internet: \\nFREE Auction Profits Toolkit and\\n        FREE training class\\n(For the first 200 respondents)\\nYou have\\n        been selected to participate in this FREE offer. \\n\\n        This eBay and Internet e-course, live web training\\n        conference, and Auction Profit Toolkit could easily sell\\n        for $297 - but it\\'s yours absolutely FREE!\\n        \\n\\n        This special FREE offer has been brought\\n        to you by your friends at eBay Auction News. Craig Meyer\\n        (The Auction Man) has agreed to provide you a free\\n        \"live\" training class that you won\\'t\\n        want to miss.\\n\\n        You might say \"Craig Meyer - the Auction Man?\"\\n        That\\'s because most of you remember Craig as the real estate\\n        guru who in 1997 helped over 2,000 families buy their own\\n        homes using little or none of their own money. Craig was\\n        featured on television programs throughout the country\\n        for this incredible effort. Craig is not one of those get\\n        rich quick gurus - but a guy who has helped families\\n        realize the American Dream - I will tell you Craig Meyer\\n        is the real deal! \\n\\n        Craig and his staff have\\n        invested hundreds of thousands of dollars and thousands\\n        of hours testing, testing and more testing - Craig has\\n        developed an incredible system for making Big Money using\\n        eBay and the Internet This system will be revealed to you\\n        in - Craig\\'s brand new live Online Conference - Craig is\\n        providing a limited number of eBay Auction News subscribers\\n        the opportunity to attend this conference for FREE!\\n        \\n\\nRegister for the class:\\n        CLICK HERE \\n\\n#1 Free \"live\" Online training class -\\n        Craig Meyer\\'s Multiple Streams of revenue using eBay and\\n        the Internet! \\n\\n\\n\\n\\nSessions\\n                Start: \\n\\n\\n\\n\\n\\n\\xa0\\n8/28/2002 - 5:00pm PST - 6:30pm PST\\n\\n\\n\\xa0\\n9/02/2002 - 9:00am PST - 10:30am PST\\n\\n\\n\\xa0\\n9/03/2002 - 5:00pm PST - 6:30pm PST\\n\\n\\n\\xa0\\n9/05/2002 - 9:00am PST - 10:30am PST\\n\\n\\n\\xa0\\n9/09/2002 - 9:00am PST - 10:30am PST\\n\\n\\n\\xa0\\n9/10/2002 - 5:00pm PST - 6:30pm PST\\n\\n\\n\\xa0\\nPre-recorded Class (anytime)\\n\\n\\n\\n\\n\\nThis is\\n        the live online training class that Started it all ... This\\n        class can help YOU learn how to Create Multiple Streams\\n        of eBay and internet revenue for LIFE! This\\n        course is personally taught online by Craig Meyer\\n        HIMSELF! PLUS, when you attend, you will get: \\n\\nThe Entire\\n        Auction Profits Toolkit absolutely FREE! A $297 Value! \\n\\n        Just think about it ... you will have personal and\\n        individual training! Craig will be teaching you all of\\n        his proven, successful, and profitable wealth secrets -\\n        LIVE, interactive, intense and jam packed with\\n        information! \\n\\n        Plus - During Craig\\'s live online class he will reveal\\n        the secret to making $12,000 in the next 30 days - No\\n        Hype, I promise this is the real deal - you don\\'t want to\\n        miss this conference so respond right now! \\n\\nAre you interested in Financial Freedom? \\n        Are you interested in having Multiple Streams of Income? \\n        Are you willing to work with Craig personally to achieve\\n        these goals? \\n        Are you ready to the Auction Profit Toolkit and training class FREE? \\n\\n\\n\\nIf SO,\\n        Just go to the registration page: \\nCLICK HERE\\n        \\n\\n        Get registered now! You\\'ll receive a confirmation email\\n        immediately after you register. \\nKEEP THE CONFIRMATION EMAIL HANDY! It\\n        contains all the codes and access numbers to view the\\n        program on your PC and get on the call! \\n\\n        This conference will be sold out - actually since the\\n        entire program is free It will simply fill up - once it\\n        is full - it\\'s full - to guarantee your participation\\n        register right now! \\n\\nHERE IS HOW YOU\\n        REGISTER & LOCK IN YOUR POSITION:\\nYou have to\\n        go to this website: \\nCLICK HERE \\n\\nBe sure to do it NOW - the web conference and auction profits course are going to go QUICKLY ... and I don\\'t want\\n        you to miss out! \\n\\n        Sincerely, \\n\\n        Taylor Brooks \\n        eBay Auction News\\n\\n\\nTo be removed,\\n        CLICK HERE'"
      ]
     },
     "execution_count": 63,
     "metadata": {},
     "output_type": "execute_result"
    }
   ],
   "source": [
    "email_to_text(sample_html_spam)"
   ]
  },
  {
   "cell_type": "code",
   "execution_count": 64,
   "id": "7c1f7a14",
   "metadata": {},
   "outputs": [],
   "source": [
    "import nltk\n",
    "stemmer = nltk.PorterStemmer()"
   ]
  },
  {
   "cell_type": "code",
   "execution_count": 65,
   "id": "c20041ed",
   "metadata": {},
   "outputs": [
    {
     "name": "stdout",
     "output_type": "stream",
     "text": [
      "Requirement already satisfied: urlextract in e:\\anaconda\\lib\\site-packages (1.9.0)\n",
      "Requirement already satisfied: idna in e:\\anaconda\\lib\\site-packages (from urlextract) (3.4)\n",
      "Requirement already satisfied: uritools in e:\\anaconda\\lib\\site-packages (from urlextract) (4.0.3)\n",
      "Requirement already satisfied: platformdirs in e:\\anaconda\\lib\\site-packages (from urlextract) (3.10.0)\n",
      "Requirement already satisfied: filelock in e:\\anaconda\\lib\\site-packages (from urlextract) (3.9.0)\n",
      "Note: you may need to restart the kernel to use updated packages.\n"
     ]
    }
   ],
   "source": [
    "pip install urlextract"
   ]
  },
  {
   "cell_type": "code",
   "execution_count": 66,
   "id": "9a71ef17",
   "metadata": {
    "scrolled": true
   },
   "outputs": [
    {
     "data": {
      "text/plain": [
       "['github.com']"
      ]
     },
     "execution_count": 66,
     "metadata": {},
     "output_type": "execute_result"
    }
   ],
   "source": [
    "import urlextract \n",
    "\n",
    "url_extractor = urlextract.URLExtract()\n",
    "url_extractor.find_urls(\"simmy simy ay simmy ay simmy yaaaa github.com\")\n"
   ]
  },
  {
   "cell_type": "code",
   "execution_count": 83,
   "id": "fb207a18",
   "metadata": {},
   "outputs": [],
   "source": [
    "from sklearn.base import BaseEstimator , TransformerMixin\n",
    "import re\n",
    "\n",
    "class EmailToWordCounterTransformer(BaseEstimator , TransformerMixin):\n",
    "    \n",
    "    def __init__(self , strip_headers = True , lower_case = True , \n",
    "                 remove_punctuation = True , replace_url = True , replace_numbers  = True , stemming = True):\n",
    "        self.strip_headers = strip_headers\n",
    "        self.lower_case = lower_case\n",
    "        self.remove_punctuation = remove_punctuation\n",
    "        self.replace_url = replace_url\n",
    "        self.replace_numbers = replace_numbers\n",
    "        self.stemming = stemming \n",
    "        \n",
    "    def fit(self,X,y=None):\n",
    "        return self\n",
    "    \n",
    "    def transform(self,X,y=None):\n",
    "        X_transformed = []\n",
    "        \n",
    "        for email in X:\n",
    "            text = email_to_text(email) or \"\"\n",
    "            \n",
    "            if self.lower_case:\n",
    "                text = text.lower()\n",
    "            if self.replace_url:\n",
    "                urls = list(set(url_extractor.find_urls(text)))\n",
    "                for url in urls:\n",
    "                    text = text.replace(url , \" URL \")\n",
    "            if self.replace_numbers:\n",
    "                text = re.sub(r'\\d+(?:\\.\\d*)?(?:[eE][+-]?\\d+)?', 'NUMBER', text)\n",
    "            if self.remove_punctuation:\n",
    "                text = re.sub(r'\\W+', ' ', text, flags=re.M)\n",
    "                \n",
    "            word_count = Counter(text.split())\n",
    "            \n",
    "            if self.stemming:\n",
    "                stemmed_word_count = Counter()\n",
    "                \n",
    "                for word , count in word_count.items():\n",
    "                    stemmed_word = stemmer.stem(word)\n",
    "                    stemmed_word_count[stemmed_word] += count\n",
    "                    \n",
    "                word_count = stemmed_word_count\n",
    "                X_transformed.append(word_count)\n",
    "                \n",
    "        return np.array(X_transformed)   \n"
   ]
  },
  {
   "cell_type": "code",
   "execution_count": 94,
   "id": "1fb9f3f2",
   "metadata": {},
   "outputs": [
    {
     "data": {
      "text/plain": [
       "array([Counter({'number': 62, 'the': 20, 'to': 14, 'ge': 10, 'compani': 10, 'lifetim': 8, 'product': 8, 'for': 8, 'and': 7, 'premium': 7, 'of': 7, 'polici': 6, 'by': 5, 'life': 5, 'insur': 5, 'is': 4, 'age': 4, 'protectorsm': 4, 'in': 4, 'from': 4, 'thi': 4, 'url': 4, 'protector': 3, 'a': 3, 'capit': 3, 'assur': 3, 'first': 3, 'coloni': 3, 'not': 3, 'underwritten': 2, 'gener': 2, 'electr': 2, 'competit': 2, 'face': 2, 'annual': 2, 'csv': 2, 's': 2, 't': 2, 'financi': 2, 'subject': 2, 'condit': 2, 'et': 2, 'al': 2, 'all': 2, 'state': 2, 'numberpremium': 2, 'guarante': 2, 'provis': 2, 'refer': 2, 'design': 2, 'requir': 2, 'as': 2, 'valu': 2, 'current': 2, 'each': 2, 'column': 2, 'here': 2, 'receiv': 2, 'mail': 2, 'profession': 2, 'ani': 1, 'way': 1, 'you': 1, 'slice': 1, 'it': 1, 'cut': 1, 'abov': 1, 'univers': 1, 'cook': 1, 'with': 1, 'male': 1, 'best': 1, 'amount': 1, 'premiumnumb': 1, 'amt': 1, 'j': 1, 'i': 1, 'l': 1, 'u': 1, 'm': 1, 'g': 1, 'sourc': 1, 'industri': 1, 'market': 1, 'research': 1, 'conduct': 1, 'compil': 1, 'august': 1, 'term': 1, 'issu': 1, 'limit': 1, 'form': 1, 'no': 1, 'ul': 1, 'genumb': 1, 'ulfclnumb': 1, 'which': 1, 'includ': 1, 'exclus': 1, 'period': 1, 'death': 1, 'suicid': 1, 'avail': 1, 'that': 1, 'coverag': 1, 'accord': 1, 'differ': 1, 'name': 1, 'will': 1, 'vari': 1, 'remain': 1, 'forc': 1, 'long': 1, 'sum': 1, 'paid': 1, 'less': 1, 'reduct': 1, 'partial': 1, 'withdraw': 1, 'equal': 1, 'or': 1, 'exce': 1, 'cumul': 1, 'total': 1, 'monthli': 1, 'date': 1, 'end': 1, 'month': 1, 'calcul': 1, 'assum': 1, 'credit': 1, 'rate': 1, 'charg': 1, 'repres': 1, 'achiev': 1, 'target': 1, 'cash': 1, 'surrend': 1, 'head': 1, 'lynchburg': 1, 'va': 1, 'member': 1, 'famili': 1, 'click': 1, 'sm': 1, 'inform': 1, 'quot': 1, 'bramco': 1, 'agenc': 1, 'we': 1, 'don': 1, 'want': 1, 'anyon': 1, 'our': 1, 'who': 1, 'doe': 1, 'wish': 1, 'them': 1, 'commun': 1, 'sent': 1, 'be': 1, 'remov': 1, 'list': 1, 'do': 1, 'repli': 1, 'messag': 1, 'instead': 1, 'go': 1, 'legal': 1, 'notic': 1}),\n",
       "       Counter({'and': 21, 'the': 19, 'number': 18, 'to': 16, 'i': 13, 'a': 12, 'of': 10, 'he': 10, 'be': 8, 'alb': 8, 'thi': 7, 'in': 7, 'adam': 6, 'have': 6, 'my': 6, 'is': 6, 't': 6, 'women': 5, 'do': 5, 'that': 5, 'for': 5, 'you': 5, 'com': 4, 'on': 4, 'if': 4, 'ha': 4, 'with': 4, 'it': 4, 'will': 4, 'as': 4, 'can': 4, 'fork': 3, 'beberg': 3, 're': 3, 'wa': 3, 'way': 3, 'boy': 3, 'clean': 3, 'sometim': 3, 'thing': 3, 'onli': 3, 'find': 3, 'no': 3, 'so': 3, 'we': 3, 's': 3, 'not': 3, 'ani': 3, 'they': 3, 'want': 3, 'one': 3, 'her': 3, 'from': 2, 'admin': 2, 'xent': 2, 'septemb': 2, 'bitbitch': 2, 'magnesium': 2, 'net': 2, 'l': 2, 'bb': 2, 'who': 2, 'like': 2, 'right': 2, 'men': 2, 'too': 2, 'cook': 2, 'work': 2, 'same': 2, 'more': 2, 'me': 2, 'him': 2, 'becaus': 2, 'get': 2, 'here': 2, 'other': 2, 'such': 2, 'about': 2, 'role': 2, 'where': 2, 'look': 2, 'at': 2, 'p': 2, 'which': 2, 'move': 2, 'm': 2, 'go': 2, 'normal': 2, 'wish': 2, 'anoth': 2, 'wrote': 2, 'product': 2, 'good': 2, 'still': 2, 'marriag': 2, 'then': 2, 'but': 2, 'countri': 2, 'she': 2, 'actual': 2, 'opportun': 2, 'don': 2, 'are': 2, 'their': 2, 'love': 2, 'marri': 2, 'quitcherbraggin': 1, 'gg': 1, 'origin': 1, 'messag': 1, 'mailto': 1, 'behalf': 1, 'cdale': 1, 'sent': 1, 'friday': 1, 'am': 1, 'cc': 1, 'exampl': 1, 'subject': 1, 'sell': 1, 'wed': 1, 'bliss': 1, 'ouch': 1, 'dunno': 1, 'thought': 1, 'should': 1, 'choos': 1, 'treat': 1, 'ahem': 1, 'wash': 1, 'cloth': 1, 'fix': 1, 'stuff': 1, 'etc': 1, 'hour': 1, 'catch': 1, 'up': 1, 'close': 1, 'industri': 1, 'creativ': 1, 'unfailingli': 1, 'make': 1, 'bed': 1, 'minut': 1, 'out': 1, 'soon': 1, 'help': 1, 'pedicur': 1, 'backrub': 1, 'sure': 1, 'fuck': 1, 'lol': 1, 'along': 1, 'aforement': 1, 'chore': 1, 'hi': 1, 'cake': 1, 'eat': 1, 'girl': 1, 'belief': 1, 'gender': 1, 'cours': 1, 'clue': 1, 'constantli': 1, 'laugh': 1, 'while': 1, 'stumbl': 1, 'around': 1, 'dark': 1, 'cindi': 1, 'indic': 1, 'import': 1, 'or': 1, 'favor': 1, 'order': 1, 'into': 1, 'hous': 1, 'smile': 1, 'chri': 1, 'new': 1, 'orlean': 1, 'handl': 1, 'cab': 1, 'drive': 1, 'summer': 1, 'suck': 1, 'ms': 1, 'gulf': 1, 'coast': 1, 'instead': 1, 'rock': 1, 'doe': 1, 'luck': 1, 'comput': 1, 'job': 1, 'le': 1, 'sigh': 1, 'thu': 1, 'sep': 1, 'hello': 1, 'thursday': 1, 'pm': 1, 'say': 1, 'bundl': 1, 'point': 1, 'ca': 1, 'deserv': 1, 'beat': 1, 'everi': 1, 'often': 1, 'anyon': 1, 'els': 1, 'honor': 1, 'how': 1, 'differ': 1, 'exactli': 1, 'woman': 1, 'man': 1, 'both': 1, 'offspr': 1, 'oh': 1, 'lack': 1, 'de': 1, 'femin': 1, 'over': 1, 'size': 1, 'self': 1, 'center': 1, 'mercenari': 1, 'mind': 1, 'choic': 1, 'mmkay': 1, 'nth': 1, 'time': 1, 'live': 1, 'land': 1, 'fantasi': 1, 'allow': 1, 'independ': 1, 'entir': 1, 'free': 1, 'male': 1, 'counterpart': 1, 'aren': 1, 'forc': 1, 'mere': 1, 'sexual': 1, 'vessel': 1, 'come': 1, 'shock': 1, 'doubt': 1, 'even': 1, 'crucial': 1, 'distinct': 1, 'between': 1, 'system': 1, 'satisfact': 1, 'togeth': 1, 'know': 1, 'far': 1, 'fetch': 1, 'idealist': 1, 'crazi': 1, 'happen': 1, 'guarante': 1, 'mother': 1, 'approach': 1, 'by': 1, 'father': 1, 'year': 1, 'ago': 1, 'comment': 1, 'abil': 1, 'motiv': 1, 'would': 1, 'convers': 1, 'now': 1, 'guy': 1, 'silli': 1, 'antequ': 1, 'idea': 1, '_will_': 1, 'scarc': 1, 'again': 1, 'these': 1, 'situat': 1, 'great': 1, 'provid': 1, 'everyon': 1, 'awar': 1, 'relationship': 1, 'contractu': 1, 'maid': 1, 'dog': 1, 'prostitut': 1, 'doesn': 1, 'pay': 1, 'isn': 1, 'impoverish': 1, 'teem': 1, 'aid': 1, 'contract': 1, 'versu': 1, 'true': 1, 'interest': 1, 'egh': 1, 'realli': 1, 'need': 1, 'stop': 1, 'analyz': 1, 'your': 1, 'post': 1, 'extent': 1, 'blame': 1, 'law': 1, 'school': 1, 'cat': 1, 'duncan': 1, 'url': 1, 'mithral': 1, 'take': 1, 'stock': 1, 'mathemat': 1, 'anyway': 1, 'huckleberri': 1, 'finn': 1}),\n",
       "       Counter({'number': 6, 'the': 4, 'url': 2, 'of': 2, 'date': 1, 'numbertnumb': 1, 'art': 1, 'long': 1, 'run': 1, 'disput': 1, 'between': 1, 'widow': 1, 'kurt': 1, 'cobain': 1, 'and': 1, 'remain': 1, 'two': 1, 'member': 1, 'hi': 1, 'band': 1, 'nirvana': 1, 'ha': 1, 'been': 1, 'settl': 1, 'pave': 1, 'way': 1, 'for': 1, 'a': 1, 'new': 1, 'cd': 1}),\n",
       "       Counter({'mean': 3, 'a': 2, 'to': 2, 'the': 2, 'of': 2, 'john': 1, 'hall': 1, 'ran': 1, 'across': 1, 'site': 1, 'which': 1, 'claim': 1, 'explain': 1, 'origin': 1, 'ten': 1, 'command': 1, 'it': 1, 'seem': 1, 'some': 1, 'those': 1, 'have': 1, 'evolv': 1, 'bit': 1, 'too': 1, 'you': 1, 'that': 1, 'thou': 1, 'shalt': 1, 'not': 1, 'covet': 1, 'thi': 1, 'neighbour': 1, 's': 1, 'ass': 1, 'use': 1, 'be': 1, 'about': 1, 'donkey': 1, 'inconceiv': 1, 'r': 1}),\n",
       "       Counter({'number': 117, 'tmda': 27, 'numberk': 20, 'may': 11, 'tgz': 10, 'txt': 9, 'url': 5, 'a': 5, 'apr': 5, 'is': 4, 'jun': 4, 'thi': 4, 'from': 3, 'of': 3, 'in': 3, 'wa': 3, 'befor': 3, 'file': 3, 'for': 3, 'spamassassin': 3, 'talk': 3, 'net': 3, 'the': 2, 'april': 2, 'juli': 2, 'prior': 2, 'art': 2, 'aug': 2, 'patent': 2, 'jason': 2, 'mastal': 2, 'com': 2, 'to': 2, 'justin': 2, 'mason': 2, 'exampl': 2, 'sourceforg': 2, 'on': 2, 'like': 2, 'date': 2, 'have': 2, 'but': 2, 'it': 2, 'be': 2, 'list': 2, 'first': 1, 'releas': 1, 'essenti': 1, 'rewrit': 1, 'tm': 1, 'python': 1, 'snip': 1, 'earlier': 1, 'than': 1, 'parent': 1, 'directori': 1, 'readm': 1, 'mdnumbersum': 1, 'alreadi': 1, 'at': 1, 'day': 1, 'origin': 1, 'messag': 1, 'r': 1, 'exp': 1, 'numberfnumberbnumb': 1, 'yyyi': 1, 'cc': 1, 'user': 1, 'sent': 1, 'tuesday': 1, 'august': 1, 'am': 1, 'subject': 1, 'satalk': 1, 're': 1, 'system': 1, 'jm': 1, 'jmason': 1, 'org': 1, 'write': 1, 'sound': 1, 'lot': 1, 'me': 1, 'grant': 1, 'tmdaer': 1, 'you': 1, 'seen': 1, 'no': 1, 'thank': 1, 'point': 1, 'out': 1, 'i': 1, 'd': 1, 'presum': 1, 'still': 1, 'could': 1, 'troublesom': 1, 'yup': 1, 's': 1, 'core': 1, 'function': 1, 'fulli': 1, 'establish': 1, 'even': 1, 'anyon': 1, 'with': 1, 'experi': 1, 'area': 1, 'recommend': 1, 'whether': 1, 'should': 1, 'pursu': 1, 'or': 1, 'not': 1, 'email': 1, 'sponsor': 1, 'by': 1, 'osdn': 1, 'tire': 1, 'that': 1, 'same': 1, 'old': 1, 'cell': 1, 'phone': 1, 'get': 1, 'new': 1, 'here': 1, 'free': 1, '_______________________________________________': 1, 'mail': 1}),\n",
       "       Counter({'number': 6, 'url': 2, 'date': 1, 'numbertnumb': 1, 'tori': 1, 'confer': 1, 'thatcherit': 1, 'cheer': 1, 'former': 1, 'chairman': 1, 's': 1, 'hous': 1, 'plan': 1}),\n",
       "       Counter({'number': 8, 'to': 4, 'use': 3, 'perl': 3, 'thi': 3, 'on': 3, 'you': 3, 'messag': 3, 'your': 3, 'septemb': 2, 'url': 2, 'receiv': 2, 'and': 2, 'from': 2, 'or': 2, 'chang': 2, 'prefer': 2, 'daili': 1, 'headlin': 1, 'mailer': 1, 'week': 1, 'perlnumb': 1, 'porter': 1, 'post': 1, 'by': 1, 'rafael': 1, 'monday': 1, 'summari': 1, 'copyright': 1, 'pudg': 1, 'all': 1, 'right': 1, 'reserv': 1, 'have': 1, 'becaus': 1, 'subscrib': 1, 'it': 1, 'stop': 1, 'other': 1, 'add': 1, 'more': 1, 'pleas': 1, 'go': 1, 'user': 1, 'page': 1, 'can': 1, 'log': 1, 'in': 1, 'there': 1}),\n",
       "       Counter({'ebay': 31, 'to': 27, 'the': 25, 'you': 23, 'sell': 20, 'on': 18, 'e': 17, 'and': 17, 'number': 17, 'a': 13, 'for': 13, 'make': 12, 'is': 12, 'thi': 11, 'book': 10, 'cours': 9, 'with': 9, 'auction': 9, 'your': 9, 'as': 8, 'of': 8, 'how': 7, 'that': 7, 'in': 7, 'manual': 7, 'not': 7, 'form': 7, 'market': 6, 'i': 6, 'an': 6, 'inform': 6, 'time': 5, 'will': 5, 'from': 5, 'wholesal': 5, 'full': 4, 'profit': 4, 'no': 4, 'have': 4, 'design': 4, 'fortun': 4, 'advanc': 4, 'their': 4, 'contain': 4, 'complet': 3, 's': 3, 'onlin': 3, 'be': 3, 'up': 3, 'over': 3, 'page': 3, 'know': 3, 'busi': 3, 'strategi': 3, 'are': 3, 'all': 3, 'them': 3, 'they': 3, 'regist': 3, 'item': 3, 'need': 3, 'use': 3, 'thousand': 3, 'product': 3, 'get': 3, 'more': 3, 'it': 3, 'these': 3, 'can': 3, 'sourc': 3, 'or': 3, 'hour': 3, 'learn': 2, 'here': 2, 'incom': 2, 'huge': 2, 'if': 2, 'so': 2, 'per': 2, 'month': 2, 'receiv': 2, 'but': 2, 'where': 2, 'come': 2, 'internet': 2, 'detail': 2, 'instruct': 2, 'read': 2, 'ani': 2, 'other': 2, 'comput': 2, 'novic': 2, 'etc': 2, 'help': 2, 'my': 2, 'buy': 2, 'm': 2, 'go': 2, 'teach': 2, 'hundr': 2, 'dollar': 2, 'vital': 2, 'user': 2, 'right': 2, 'ha': 2, 'success': 2, 'mani': 2, 'into': 2, 'also': 2, 'individu': 2, 'onli': 2, 'order': 2, 'famou': 1, 'chanc': 1, 'join': 1, 'revolut': 1, 'earn': 1, 'our': 1, 'show': 1, 'creat': 1, 'do': 1, 'could': 1, 'hype': 1, 'scam': 1, 'billion': 1, 'view': 1, 'ultim': 1, 'venu': 1, 'virtual': 1, 'anyth': 1, 'almost': 1, 'effort': 1, 'what': 1, 'lead': 1, 'expert': 1, 'owner': 1, 'sever': 1, 'base': 1, 'written': 1, 'provid': 1, 'easi': 1, 'understand': 1, 'maxim': 1, 'proven': 1, 'winner': 1, 've': 1, 'idiot': 1, 'tell': 1, 'list': 1, 'avoid': 1, 'fraud': 1, 'million': 1, 'effect': 1, 'photocopi': 1, 'file': 1, 'assum': 1, 'alreadi': 1, 'way': 1, 'around': 1, 'don': 1, 't': 1, 'special': 1, 'knowledg': 1, 'should': 1, 'familiar': 1, 'wast': 1, 'pass': 1, 'secret': 1, 'techniqu': 1, 'each': 1, 'everi': 1, 'day': 1, 'bring': 1, 'follow': 1, 'lesson': 1, 'fill': 1, 'after': 1, 'valuabl': 1, 'terrif': 1, 'instant': 1, 'edg': 1, 'experienc': 1, 'seller': 1, 'topic': 1, 'ensur': 1, 'maximum': 1, 'potenti': 1, 'goe': 1, 'than': 1, 'sister': 1, 'must': 1, 'track': 1, 'analyz': 1, 'record': 1, 'printer': 1, 'friendli': 1, 'version': 1, 'print': 1, 'immedi': 1, 'final': 1, 'distributor': 1, 'unit': 1, 'state': 1, 'mexico': 1, 'hong': 1, 'kong': 1, 'taiwan': 1, 'asia': 1, 'philippin': 1, 'arm': 1, 'custom': 1, 'at': 1, 'finger': 1, 'tip': 1, 'look': 1, 'extra': 1, 'job': 1, 'win': 1, 'doe': 1, 'basic': 1, 'such': 1, 'put': 1, 'wealthi': 1, 'entrepreneur': 1, 'abl': 1, 'resel': 1, 'affili': 1, 'program': 1, 'keep': 1, 'money': 1, 'gener': 1, 'sale': 1, 'want': 1, 'whatev': 1, 'price': 1, 'choos': 1, 'there': 1, 'limit': 1, 'much': 1, 'incred': 1, 'give': 1, 'free': 1, 'click': 1, 'today': 1, 'pleas': 1, 'allow': 1, 'process': 1, 'dure': 1, 'thank': 1, 'hope': 1, 'hear': 1, 'soon': 1}),\n",
       "       Counter({'and': 11, 'the': 9, 'that': 8, 'to': 7, 'is': 7, 'for': 6, 'one': 6, 'i': 5, 'a': 5, 'mechan': 5, 'it': 4, 'not': 4, 'polici': 4, 'select': 4, 'exmh': 4, 'of': 4, 'but': 3, 'tk': 3, 'as': 3, 'work': 3, 'cut': 3, 'past': 3, 'clipboard': 3, 'm': 3, 'report': 3, 'on': 3, 'x': 3, 'all': 3, 'with': 3, 'will': 2, 'differ': 2, 'most': 2, 'at': 2, 'window': 2, 'macintosh': 2, 'have': 2, 'primari': 2, 'what': 2, 'in': 2, 'support': 2, 'anoth': 2, 'perhap': 2, 'by': 2, 'folk': 2, 'number': 2, 'line': 2, 's': 2, 'welch': 2, 'panasa': 2, 'url': 2, 'com': 2, 'user': 2, 'kevin': 1, 'oberman': 1, 'said': 1, 'did': 1, 'me': 1, 'am': 1, 'say': 1, 'tcl': 1, 'issu': 1, 'other': 1, 'app': 1, 'seem': 1, 'ok': 1, 'doe': 1, 'stuff': 1, 'bit': 1, 'than': 1, 'toolkit': 1, 'so': 1, 'about': 1, 'place': 1, 'blame': 1, 'just': 1, 'my': 1, 'experi': 1, 'more': 1, 'salvo': 1, 'specifi': 1, 'least': 1, 'two': 1, 'usual': 1, 'mandat': 1, 'no': 1, 'slightli': 1, 'uniform': 1, 'quit': 1, 'sure': 1, 'implement': 1, 'accur': 1, 'tie': 1, 'visibl': 1, 'your': 1, 'display': 1, 'explicit': 1, 'copi': 1, 'step': 1, 'same': 1, 'you': 1, 'howev': 1, 'throw': 1, 'cutbuff': 1, 'which': 1, 'archaic': 1, 'point': 1, 'still': 1, 'today': 1, 'version': 1, 'emac': 1, 'ha': 1, 'tri': 1, 'unifi': 1, 'these': 1, 'under': 1, 'umbrella': 1, 'great': 1, 'would': 1, 'encourag': 1, 'play': 1, 'those': 1, 'code': 1, 'text_select': 1, 'well': 1, 'them': 1, 'we': 1, 'may': 1, 'come': 1, 'up': 1, 'everyon': 1, 'or': 1, 'introduc': 1, 'yet': 1, 'set': 1, 'let': 1, 'choos': 1, 'between': 1, 'few': 1, 'use': 1, 'model': 1, 'cours': 1, 'an': 1, 'admiss': 1, 'failur': 1, 'do': 1, 'brent': 1, 'softwar': 1, 'architect': 1, 'inc': 1, 'pioneer': 1, 'world': 1, 'scalabl': 1, 'agil': 1, 'storag': 1, 'network': 1, '_______________________________________________': 1, 'mail': 1, 'list': 1, 'redhat': 1}),\n",
       "       Counter({'number': 43, 'the': 24, 'you': 23, 'to': 21, 'and': 18, 'craig': 15, 'thi': 13, 'of': 12, 'pst': 12, 'auction': 11, 'free': 11, 'ebay': 9, 'class': 9, 'is': 9, 'will': 9, 'it': 8, 'train': 7, 'for': 7, 'in': 7, 'live': 7, 'profit': 6, 'confer': 6, 's': 6, 'numberpm': 6, 'numberam': 6, 'internet': 5, 'have': 5, 'your': 5, 'meyer': 5, 'a': 5, 'be': 5, 'onlin': 5, 'regist': 5, 'here': 5, 'are': 5, 'news': 4, 'multipl': 4, 'stream': 4, 'use': 4, 'toolkit': 4, 'ha': 4, 'get': 4, 'click': 4, 'now': 4, 'go': 4, 'revenu': 3, 'cours': 3, 'that': 3, 't': 3, 'want': 3, 'miss': 3, 'real': 3, 'help': 3, 'on': 3, 'program': 3, 'i': 3, 'test': 3, 'all': 3, 'person': 3, 'special': 2, 'respond': 2, 'been': 2, 'particip': 2, 'offer': 2, 'web': 2, 'but': 2, 'absolut': 2, 'by': 2, 'man': 2, 'provid': 2, 'guru': 2, 'who': 2, 'famili': 2, 'their': 2, 'own': 2, 'money': 2, 'incred': 2, 'deal': 2, 'hi': 2, 'thousand': 2, 'system': 2, 'make': 2, 'reveal': 2, 'attend': 2, 'start': 2, 'how': 2, 'plu': 2, 'entir': 2, 'just': 2, 'secret': 2, 'with': 2, 'don': 2, 'so': 2, 'right': 2, 'interest': 2, 'confirm': 2, 'email': 2, 'out': 2, 'full': 2, 'recommend': 1, 'resourc': 1, 'edit': 1, 'monday': 1, 'august': 1, 'numberth': 1, 'first': 1, 'select': 1, 'e': 1, 'could': 1, 'easili': 1, 'sell': 1, 'brought': 1, 'friend': 1, 'at': 1, 'agre': 1, 'won': 1, 'might': 1, 'say': 1, 'becaus': 1, 'most': 1, 'rememb': 1, 'as': 1, 'estat': 1, 'over': 1, 'buy': 1, 'home': 1, 'littl': 1, 'or': 1, 'none': 1, 'wa': 1, 'featur': 1, 'televis': 1, 'throughout': 1, 'countri': 1, 'effort': 1, 'not': 1, 'one': 1, 'those': 1, 'rich': 1, 'quick': 1, 'guy': 1, 'realiz': 1, 'american': 1, 'dream': 1, 'tell': 1, 'staff': 1, 'invest': 1, 'hundr': 1, 'dollar': 1, 'hour': 1, 'more': 1, 'develop': 1, 'an': 1, 'big': 1, 'brand': 1, 'new': 1, 'limit': 1, 'subscrib': 1, 'opportun': 1, 'session': 1, 'pre': 1, 'record': 1, 'anytim': 1, 'can': 1, 'learn': 1, 'creat': 1, 'life': 1, 'taught': 1, 'himself': 1, 'when': 1, 'valu': 1, 'think': 1, 'about': 1, 'individu': 1, 'teach': 1, 'proven': 1, 'success': 1, 'wealth': 1, 'interact': 1, 'intens': 1, 'jam': 1, 'pack': 1, 'inform': 1, 'dure': 1, 'he': 1, 'next': 1, 'day': 1, 'no': 1, 'hype': 1, 'promis': 1, 'financi': 1, 'freedom': 1, 'incom': 1, 'work': 1, 'achiev': 1, 'these': 1, 'goal': 1, 'readi': 1, 'if': 1, 'registr': 1, 'page': 1, 'll': 1, 'receiv': 1, 'immedi': 1, 'after': 1, 'keep': 1, 'handi': 1, 'contain': 1, 'code': 1, 'access': 1, 'view': 1, 'pc': 1, 'call': 1, 'sold': 1, 'actual': 1, 'sinc': 1, 'simpli': 1, 'fill': 1, 'up': 1, 'onc': 1, 'guarante': 1, 'lock': 1, 'posit': 1, 'websit': 1, 'sure': 1, 'do': 1, 'quickli': 1, 'sincer': 1, 'taylor': 1, 'brook': 1, 'remov': 1})],\n",
       "      dtype=object)"
      ]
     },
     "execution_count": 94,
     "metadata": {},
     "output_type": "execute_result"
    }
   ],
   "source": [
    "some_data = X_train[:10]\n",
    "some_data_prepared = EmailToWordCounterTransformer().fit_transform(some_data)\n",
    "some_data_prepared"
   ]
  },
  {
   "cell_type": "code",
   "execution_count": 117,
   "id": "82dbb97c",
   "metadata": {},
   "outputs": [],
   "source": [
    "from scipy.sparse import csr_matrix\n",
    "\n",
    "class WordCounterToVectorTransformer(BaseEstimator, TransformerMixin):\n",
    "    def __init__(self, vocabulary_size=1000):\n",
    "        self.vocabulary_size = vocabulary_size\n",
    "    def fit(self, X, y=None):\n",
    "        total_count = Counter()\n",
    "        for word_count in X:\n",
    "            for word, count in word_count.items():\n",
    "                total_count[word] += min(count, 10)\n",
    "        most_common = total_count.most_common()[:self.vocabulary_size]\n",
    "        self.vocabulary_ = {word: index + 1 for index, (word, count) in enumerate(most_common)}\n",
    "        return self\n",
    "    def transform(self, X, y=None):\n",
    "        rows = []\n",
    "        cols = []\n",
    "        data = []\n",
    "        for row, word_count in enumerate(X):\n",
    "            for word, count in word_count.items():\n",
    "                rows.append(row)\n",
    "                cols.append(self.vocabulary_.get(word, 0))\n",
    "                data.append(count)\n",
    "        return csr_matrix((data, (rows, cols)), shape=(len(X), self.vocabulary_size + 1))"
   ]
  },
  {
   "cell_type": "code",
   "execution_count": 123,
   "id": "0b7337f1",
   "metadata": {},
   "outputs": [
    {
     "data": {
      "text/plain": [
       "array([[ 0, 62, 20, ...,  0,  0,  0]], dtype=int32)"
      ]
     },
     "execution_count": 123,
     "metadata": {},
     "output_type": "execute_result"
    }
   ],
   "source": [
    "some_data_prepared_vocab = WordCounterToVectorTransformer().fit_transform(some_data_prepared)\n",
    "some_data_prepared_vocab[0].toarray()"
   ]
  },
  {
   "cell_type": "code",
   "execution_count": 126,
   "id": "7999301f",
   "metadata": {},
   "outputs": [],
   "source": [
    "from sklearn.pipeline import Pipeline\n",
    "\n",
    "full_pipeline = Pipeline([\n",
    "    (\"email_to_word_counter\" , EmailToWordCounterTransformer()),\n",
    "    (\"word_counter_to_vector\" , WordCounterToVectorTransformer())\n",
    "])\n",
    "\n",
    "X_train_prepared = full_pipeline.fit_transform(X_train)\n"
   ]
  },
  {
   "cell_type": "code",
   "execution_count": 128,
   "id": "934bf23f",
   "metadata": {},
   "outputs": [
    {
     "data": {
      "text/plain": [
       "0.9831999057091307"
      ]
     },
     "execution_count": 128,
     "metadata": {},
     "output_type": "execute_result"
    }
   ],
   "source": [
    "from sklearn.linear_model import LogisticRegression\n",
    "from sklearn.model_selection import cross_val_score\n",
    "\n",
    "log_clf = LogisticRegression(solver=\"lbfgs\" , max_iter=1000 , random_state=42)\n",
    "scores = cross_val_score(log_clf , X_train_prepared , y_train , cv=3)\n",
    "scores.mean()"
   ]
  },
  {
   "cell_type": "code",
   "execution_count": 135,
   "id": "e0e58626",
   "metadata": {},
   "outputs": [
    {
     "name": "stdout",
     "output_type": "stream",
     "text": [
      "precision :  1.0\n",
      "recall : 0.9298245614035088\n",
      "f1 score : 0.9636363636363636\n"
     ]
    }
   ],
   "source": [
    "from sklearn.metrics import precision_score , recall_score , f1_score\n",
    "\n",
    "X_test_prepared = full_pipeline.transform(X_test)\n",
    "\n",
    "log_clf = LogisticRegression(solver=\"lbfgs\", max_iter=1000, random_state=42)\n",
    "log_clf.fit(X_train_prepared, y_train)\n",
    "\n",
    "y_test_pred = log_clf.predict(X_test_prepared)\n",
    "\n",
    "precision_score_val = precision_score(y_test,y_test_pred)\n",
    "recall_score_val = recall_score(y_test,y_test_pred)\n",
    "f1_score_val = f1_score(y_test,y_test_pred)\n",
    "\n",
    "print(\"precision : \" , precision_score_val)\n",
    "print(\"recall :\" , recall_score_val)\n",
    "print(\"f1 score :\" , f1_score_val)"
   ]
  },
  {
   "cell_type": "code",
   "execution_count": null,
   "id": "3f32df54",
   "metadata": {},
   "outputs": [],
   "source": []
  }
 ],
 "metadata": {
  "kernelspec": {
   "display_name": "Python 3 (ipykernel)",
   "language": "python",
   "name": "python3"
  },
  "language_info": {
   "codemirror_mode": {
    "name": "ipython",
    "version": 3
   },
   "file_extension": ".py",
   "mimetype": "text/x-python",
   "name": "python",
   "nbconvert_exporter": "python",
   "pygments_lexer": "ipython3",
   "version": "3.11.5"
  }
 },
 "nbformat": 4,
 "nbformat_minor": 5
}
